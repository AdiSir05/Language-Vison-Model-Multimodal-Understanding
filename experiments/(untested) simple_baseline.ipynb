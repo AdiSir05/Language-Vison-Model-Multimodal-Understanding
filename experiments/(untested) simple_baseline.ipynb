{
 "cells": [
  {
   "cell_type": "code",
   "execution_count": null,
   "id": "initial_id",
   "metadata": {
    "ExecuteTime": {
     "end_time": "2024-11-19T03:32:54.116367Z",
     "start_time": "2024-11-19T03:32:54.114088Z"
    },
    "collapsed": true
   },
   "outputs": [
    {
     "name": "stderr",
     "output_type": "stream",
     "text": [
      "/Users/varunchitturi/Library/Python/3.9/lib/python/site-packages/urllib3/__init__.py:35: NotOpenSSLWarning: urllib3 v2 only supports OpenSSL 1.1.1+, currently the 'ssl' module is compiled with 'LibreSSL 2.8.3'. See: https://github.com/urllib3/urllib3/issues/3020\n",
      "  warnings.warn(\n"
     ]
    }
   ],
   "source": [
    "import torch\n",
    "from torch.utils.data import Dataset, DataLoader\n",
    "from torchvision import transforms, datasets\n",
    "from tqdm import trange\n",
    "import numpy as np\n",
    "from sklearn.naive_bayes import GaussianNB\n",
    "from sklearn.metrics import precision_score, recall_score, f1_score\n",
    "from models.stegastamp_wm import StegaStampDecoder, StegaStampEncoder\n",
    "import collections\n"
   ]
  },
  {
   "cell_type": "code",
   "execution_count": 3,
   "id": "8f703baf49f7c115",
   "metadata": {
    "ExecuteTime": {
     "end_time": "2024-11-19T03:32:07.703975Z",
     "start_time": "2024-11-19T03:32:07.273226Z"
    }
   },
   "outputs": [
    {
     "name": "stdout",
     "output_type": "stream",
     "text": [
      "loading annotations into memory...\n",
      "Done (t=0.27s)\n",
      "creating index...\n",
      "index created!\n"
     ]
    }
   ],
   "source": [
    "DATASET_SIZE = 1000\n",
    "IMAGE_SIZE = 256\n",
    "NUM_BITS = 48\n",
    "IMAGE_CHANNELS = 3\n",
    "\n",
    "if torch.backends.mps.is_available():\n",
    "    device = torch.device('mps')\n",
    "else:\n",
    "    device = torch.device('cuda') if torch.cuda.is_available() else 'cpu'\n",
    "\n",
    "\n",
    "coco_dataset = datasets.CocoCaptions(root = './data/images/train',\n",
    "                        annFile = './data/annotations/train_captions.json',\n",
    "                        transform=transforms.Compose([\n",
    "                            transforms.Resize(IMAGE_SIZE),\n",
    "                            transforms.CenterCrop(IMAGE_SIZE),\n",
    "                            transforms.ToTensor()\n",
    "                        ]))\n"
   ]
  },
  {
   "cell_type": "code",
   "execution_count": 4,
   "id": "4261a76a11128fa5",
   "metadata": {
    "ExecuteTime": {
     "end_time": "2024-11-19T03:18:12.503290Z",
     "start_time": "2024-11-19T03:18:12.454232Z"
    }
   },
   "outputs": [
    {
     "data": {
      "text/plain": [
       "StegaStampDecoder(\n",
       "  (decoder): Sequential(\n",
       "    (0): Conv2d(3, 32, kernel_size=(3, 3), stride=(2, 2), padding=(1, 1))\n",
       "    (1): ReLU()\n",
       "    (2): Conv2d(32, 32, kernel_size=(3, 3), stride=(1, 1), padding=(1, 1))\n",
       "    (3): ReLU()\n",
       "    (4): Conv2d(32, 64, kernel_size=(3, 3), stride=(2, 2), padding=(1, 1))\n",
       "    (5): ReLU()\n",
       "    (6): Conv2d(64, 64, kernel_size=(3, 3), stride=(1, 1), padding=(1, 1))\n",
       "    (7): ReLU()\n",
       "    (8): Conv2d(64, 64, kernel_size=(3, 3), stride=(2, 2), padding=(1, 1))\n",
       "    (9): ReLU()\n",
       "    (10): Conv2d(64, 128, kernel_size=(3, 3), stride=(2, 2), padding=(1, 1))\n",
       "    (11): ReLU()\n",
       "    (12): Conv2d(128, 128, kernel_size=(3, 3), stride=(2, 2), padding=(1, 1))\n",
       "    (13): ReLU()\n",
       "  )\n",
       "  (dense): Sequential(\n",
       "    (0): Linear(in_features=8192, out_features=512, bias=True)\n",
       "    (1): ReLU()\n",
       "    (2): Linear(in_features=512, out_features=48, bias=True)\n",
       "  )\n",
       ")"
      ]
     },
     "execution_count": 4,
     "metadata": {},
     "output_type": "execute_result"
    }
   ],
   "source": [
    "signature = torch.randint(0, 2, (1, NUM_BITS), device=device).float()\n",
    "wm_encoder = StegaStampEncoder(\n",
    "    IMAGE_SIZE,\n",
    "    IMAGE_CHANNELS,\n",
    "    NUM_BITS,\n",
    ")\n",
    "wm_encoder_load = torch.load('models/wm_stegastamp_encoder.pth', map_location=device, weights_only=True)\n",
    "if type(wm_encoder_load) is collections.OrderedDict:\n",
    "    wm_encoder.load_state_dict(wm_encoder_load)\n",
    "else:\n",
    "    wm_encoder = wm_encoder_load\n",
    "\n",
    "wm_decoder = StegaStampDecoder(\n",
    "    IMAGE_SIZE,\n",
    "    IMAGE_CHANNELS,\n",
    "    NUM_BITS,\n",
    ")\n",
    "wm_decoder_load = torch.load('models/wm_stegastamp_decoder.pth', map_location=device, weights_only=True)\n",
    "if type(wm_decoder_load) is collections.OrderedDict:\n",
    "    wm_decoder.load_state_dict(wm_decoder_load)\n",
    "else:\n",
    "    wm_encoder = wm_encoder_load\n",
    "    \n",
    "wm_encoder.to(device)\n",
    "wm_decoder.to(device)\n"
   ]
  },
  {
   "cell_type": "code",
   "execution_count": null,
   "id": "ceb8dd315210fafc",
   "metadata": {
    "ExecuteTime": {
     "end_time": "2024-11-19T03:23:14.326903Z",
     "start_time": "2024-11-19T03:23:14.323260Z"
    }
   },
   "outputs": [],
   "source": [
    "class CocoCaptionMixedWMDataset(Dataset):\n",
    "    def __init__(self, signature, coco_dataset, num_images):\n",
    "        super(CocoCaptionMixedWMDataset, self).__init__()\n",
    "        self.coco_dataset = coco_dataset\n",
    "        self.dataset = []\n",
    "        for i in trange(num_images):\n",
    "            try:\n",
    "                image, caption = coco_dataset[i]\n",
    "                image = image.to(device).float()\n",
    "                wm_image = wm_encoder(signature.unsqueeze(0), image.unsqueeze(0))\n",
    "                self.dataset.append((wm_image.squeeze(0), 1)) \n",
    "                self.dataset.append((image, 0))               \n",
    "            except Exception as e:\n",
    "                print(e)\n",
    "        \n",
    "    def __len__(self):\n",
    "        return len(self.dataset)\n",
    "    \n",
    "    def __getitem__(self, idx):\n",
    "        return self.dataset[idx]"
   ]
  },
  {
   "cell_type": "code",
   "execution_count": 6,
   "id": "bb221d060825ebc3",
   "metadata": {
    "ExecuteTime": {
     "end_time": "2024-11-19T03:23:16.566953Z",
     "start_time": "2024-11-19T03:23:16.436476Z"
    }
   },
   "outputs": [
    {
     "name": "stderr",
     "output_type": "stream",
     "text": [
      "100%|██████████| 1000/1000 [00:22<00:00, 44.50it/s]\n"
     ]
    }
   ],
   "source": [
    "dataset = CocoCaptionMixedWMDataset(signature, coco_dataset, DATASET_SIZE)"
   ]
  },
  {
   "cell_type": "code",
   "execution_count": null,
   "id": "f27ccba4",
   "metadata": {},
   "outputs": [],
   "source": [
    "features = []\n",
    "labels = []\n",
    "\n",
    "for image, label in dataset:\n",
    "    decoded_signature = wm_decoder(image.unsqueeze(0))\n",
    "    decoded_bits = (decoded_signature > 0).cpu().numpy().flatten()\n",
    "    features.append(decoded_bits)\n",
    "    labels.append(label)\n",
    "\n",
    "features = np.array(features)\n",
    "labels = np.array(labels)\n",
    "\n",
    "split_idx = int(len(features) * 0.8)\n",
    "X_train, X_test = features[:split_idx], features[split_idx:]\n",
    "y_train, y_test = labels[:split_idx], labels[split_idx:]\n",
    "\n",
    "clf = GaussianNB()\n",
    "clf.fit(X_train, y_train)\n",
    "\n",
    "y_pred = clf.predict(X_test)\n",
    "\n",
    "precision = precision_score(y_test, y_pred)\n",
    "recall = recall_score(y_test, y_pred)\n",
    "f1 = f1_score(y_test, y_pred)\n",
    "\n",
    "print(\"Precision:\", precision)\n",
    "print(\"Recall:\", recall)\n",
    "print(\"F1 Score:\", f1)"
   ]
  }
 ],
 "metadata": {
  "kernelspec": {
   "display_name": "Python 3",
   "language": "python",
   "name": "python3"
  },
  "language_info": {
   "codemirror_mode": {
    "name": "ipython",
    "version": 3
   },
   "file_extension": ".py",
   "mimetype": "text/x-python",
   "name": "python",
   "nbconvert_exporter": "python",
   "pygments_lexer": "ipython3",
   "version": "3.9.6"
  }
 },
 "nbformat": 4,
 "nbformat_minor": 5
}
