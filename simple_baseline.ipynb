{
  "cells": [
    {
      "cell_type": "code",
      "execution_count": 1,
      "id": "EXN0rAtgrdQ5",
      "metadata": {
        "colab": {
          "base_uri": "https://localhost:8080/"
        },
        "collapsed": true,
        "id": "EXN0rAtgrdQ5",
        "outputId": "c0d85f23-4f98-4150-87a9-e79b129f3c73"
      },
      "outputs": [
        {
          "name": "stdout",
          "output_type": "stream",
          "text": [
            "Defaulting to user installation because normal site-packages is not writeable\n",
            "Requirement already satisfied: torch in /Users/varunchitturi/Library/Python/3.9/lib/python/site-packages (2.5.0)\n",
            "Requirement already satisfied: torchvision in /Users/varunchitturi/Library/Python/3.9/lib/python/site-packages (0.20.0)\n",
            "Requirement already satisfied: transformers in /Users/varunchitturi/Library/Python/3.9/lib/python/site-packages (4.44.2)\n",
            "Requirement already satisfied: bert-score in /Users/varunchitturi/Library/Python/3.9/lib/python/site-packages (0.3.13)\n",
            "Requirement already satisfied: evaluate in /Users/varunchitturi/Library/Python/3.9/lib/python/site-packages (0.4.3)\n",
            "Requirement already satisfied: tqdm in /Users/varunchitturi/Library/Python/3.9/lib/python/site-packages (4.66.4)\n",
            "Requirement already satisfied: matplotlib in /Users/varunchitturi/Library/Python/3.9/lib/python/site-packages (3.9.1)\n",
            "Requirement already satisfied: numpy in /Users/varunchitturi/Library/Python/3.9/lib/python/site-packages (1.26.4)\n",
            "Collecting sklearn\n",
            "  Using cached sklearn-0.0.post12.tar.gz (2.6 kB)\n",
            "  Preparing metadata (setup.py) ... \u001b[?25lerror\n",
            "  \u001b[1;31merror\u001b[0m: \u001b[1msubprocess-exited-with-error\u001b[0m\n",
            "  \n",
            "  \u001b[31m×\u001b[0m \u001b[32mpython setup.py egg_info\u001b[0m did not run successfully.\n",
            "  \u001b[31m│\u001b[0m exit code: \u001b[1;36m1\u001b[0m\n",
            "  \u001b[31m╰─>\u001b[0m \u001b[31m[15 lines of output]\u001b[0m\n",
            "  \u001b[31m   \u001b[0m The 'sklearn' PyPI package is deprecated, use 'scikit-learn'\n",
            "  \u001b[31m   \u001b[0m rather than 'sklearn' for pip commands.\n",
            "  \u001b[31m   \u001b[0m \n",
            "  \u001b[31m   \u001b[0m Here is how to fix this error in the main use cases:\n",
            "  \u001b[31m   \u001b[0m - use 'pip install scikit-learn' rather than 'pip install sklearn'\n",
            "  \u001b[31m   \u001b[0m - replace 'sklearn' by 'scikit-learn' in your pip requirements files\n",
            "  \u001b[31m   \u001b[0m   (requirements.txt, setup.py, setup.cfg, Pipfile, etc ...)\n",
            "  \u001b[31m   \u001b[0m - if the 'sklearn' package is used by one of your dependencies,\n",
            "  \u001b[31m   \u001b[0m   it would be great if you take some time to track which package uses\n",
            "  \u001b[31m   \u001b[0m   'sklearn' instead of 'scikit-learn' and report it to their issue tracker\n",
            "  \u001b[31m   \u001b[0m - as a last resort, set the environment variable\n",
            "  \u001b[31m   \u001b[0m   SKLEARN_ALLOW_DEPRECATED_SKLEARN_PACKAGE_INSTALL=True to avoid this error\n",
            "  \u001b[31m   \u001b[0m \n",
            "  \u001b[31m   \u001b[0m More information is available at\n",
            "  \u001b[31m   \u001b[0m https://github.com/scikit-learn/sklearn-pypi-package\n",
            "  \u001b[31m   \u001b[0m \u001b[31m[end of output]\u001b[0m\n",
            "  \n",
            "  \u001b[1;35mnote\u001b[0m: This error originates from a subprocess, and is likely not a problem with pip.\n",
            "\u001b[?25h\n",
            "\u001b[1m[\u001b[0m\u001b[34;49mnotice\u001b[0m\u001b[1;39;49m]\u001b[0m\u001b[39;49m A new release of pip is available: \u001b[0m\u001b[31;49m24.2\u001b[0m\u001b[39;49m -> \u001b[0m\u001b[32;49m24.3.1\u001b[0m\n",
            "\u001b[1m[\u001b[0m\u001b[34;49mnotice\u001b[0m\u001b[1;39;49m]\u001b[0m\u001b[39;49m To update, run: \u001b[0m\u001b[32;49m/Applications/Xcode.app/Contents/Developer/usr/bin/python3 -m pip install --upgrade pip\u001b[0m\n",
            "\u001b[1;31merror\u001b[0m: \u001b[1mmetadata-generation-failed\u001b[0m\n",
            "\n",
            "\u001b[31m×\u001b[0m Encountered error while generating package metadata.\n",
            "\u001b[31m╰─>\u001b[0m See above for output.\n",
            "\n",
            "\u001b[1;35mnote\u001b[0m: This is an issue with the package mentioned above, not pip.\n",
            "\u001b[1;36mhint\u001b[0m: See above for details.\n"
          ]
        }
      ],
      "source": [
        "!pip install torch torchvision transformers bert-score evaluate tqdm matplotlib numpy sklearn evaluate rouge_score"
      ]
    },
    {
      "cell_type": "code",
      "execution_count": 2,
      "id": "initial_id",
      "metadata": {
        "ExecuteTime": {
          "end_time": "2024-11-19T03:32:54.116367Z",
          "start_time": "2024-11-19T03:32:54.114088Z"
        },
        "collapsed": true,
        "id": "initial_id"
      },
      "outputs": [
        {
          "name": "stderr",
          "output_type": "stream",
          "text": [
            "/Users/varunchitturi/Library/Python/3.9/lib/python/site-packages/urllib3/__init__.py:35: NotOpenSSLWarning: urllib3 v2 only supports OpenSSL 1.1.1+, currently the 'ssl' module is compiled with 'LibreSSL 2.8.3'. See: https://github.com/urllib3/urllib3/issues/3020\n",
            "  warnings.warn(\n",
            "[nltk_data] Downloading package wordnet to\n",
            "[nltk_data]     /Users/varunchitturi/nltk_data...\n",
            "[nltk_data]   Package wordnet is already up-to-date!\n",
            "[nltk_data] Downloading package punkt_tab to\n",
            "[nltk_data]     /Users/varunchitturi/nltk_data...\n",
            "[nltk_data]   Package punkt_tab is already up-to-date!\n",
            "[nltk_data] Downloading package omw-1.4 to\n",
            "[nltk_data]     /Users/varunchitturi/nltk_data...\n",
            "[nltk_data]   Package omw-1.4 is already up-to-date!\n"
          ]
        }
      ],
      "source": [
        "import torch\n",
        "from torch.utils.data import Dataset, DataLoader\n",
        "from torchvision import transforms, datasets, models\n",
        "from tqdm import trange, tqdm\n",
        "import numpy as np\n",
        "from sklearn.naive_bayes import GaussianNB\n",
        "from sklearn.metrics import precision_score, recall_score, f1_score\n",
        "from models.stegastamp_wm import StegaStampDecoder, StegaStampEncoder\n",
        "import collections\n",
        "from transformers import VisionEncoderDecoderModel, ViTFeatureExtractor,AutoTokenizer\n",
        "from torch.utils.data import DataLoader\n",
        "from matplotlib import pyplot as plt\n",
        "from evaluate import load\n",
        "\n",
        "meteor = load(\"meteor\")\n",
        "rouge = load(\"rouge\")\n",
        "bleu = load(\"bleu\")"
      ]
    },
    {
      "cell_type": "code",
      "execution_count": 3,
      "id": "8f703baf49f7c115",
      "metadata": {
        "ExecuteTime": {
          "end_time": "2024-11-19T03:32:07.703975Z",
          "start_time": "2024-11-19T03:32:07.273226Z"
        },
        "colab": {
          "base_uri": "https://localhost:8080/"
        },
        "id": "8f703baf49f7c115",
        "outputId": "2e2da41c-ac4e-497e-8763-05c1305e5f18"
      },
      "outputs": [
        {
          "name": "stdout",
          "output_type": "stream",
          "text": [
            "loading annotations into memory...\n",
            "Done (t=0.28s)\n",
            "creating index...\n",
            "index created!\n",
            "loading annotations into memory...\n",
            "Done (t=0.14s)\n",
            "creating index...\n",
            "index created!\n"
          ]
        }
      ],
      "source": [
        "DATASET_SIZE = 600\n",
        "IMAGE_SIZE = 256\n",
        "NUM_BITS = 48\n",
        "IMAGE_CHANNELS = 3\n",
        "\n",
        "if torch.backends.mps.is_available():\n",
        "    device = torch.device('mps')\n",
        "else:\n",
        "    device = torch.device('cuda') if torch.cuda.is_available() else 'cpu'\n",
        "\n",
        "\n",
        "train_dataset = datasets.CocoCaptions(root = './data/images/train',\n",
        "                        annFile = './data/annotations/train_captions.json',\n",
        "                        transform=transforms.Compose([\n",
        "                            transforms.Resize(IMAGE_SIZE),\n",
        "                            transforms.CenterCrop(IMAGE_SIZE),\n",
        "                            transforms.ToTensor()\n",
        "                        ]))\n",
        "val_dataset = datasets.CocoCaptions(root = './data/images/val',\n",
        "                        annFile = './data/annotations/val_captions.json',\n",
        "                        transform=transforms.Compose([\n",
        "                            transforms.Resize(IMAGE_SIZE),\n",
        "                            transforms.CenterCrop(IMAGE_SIZE),\n",
        "                            transforms.ToTensor()\n",
        "                        ]))\n"
      ]
    },
    {
      "cell_type": "code",
      "execution_count": 4,
      "id": "4261a76a11128fa5",
      "metadata": {
        "ExecuteTime": {
          "end_time": "2024-11-19T03:18:12.503290Z",
          "start_time": "2024-11-19T03:18:12.454232Z"
        },
        "colab": {
          "base_uri": "https://localhost:8080/"
        },
        "id": "4261a76a11128fa5",
        "outputId": "938fa67c-0292-40ef-ec54-c299d4dea83e"
      },
      "outputs": [
        {
          "data": {
            "text/plain": [
              "StegaStampDecoder(\n",
              "  (decoder): Sequential(\n",
              "    (0): Conv2d(3, 32, kernel_size=(3, 3), stride=(2, 2), padding=(1, 1))\n",
              "    (1): ReLU()\n",
              "    (2): Conv2d(32, 32, kernel_size=(3, 3), stride=(1, 1), padding=(1, 1))\n",
              "    (3): ReLU()\n",
              "    (4): Conv2d(32, 64, kernel_size=(3, 3), stride=(2, 2), padding=(1, 1))\n",
              "    (5): ReLU()\n",
              "    (6): Conv2d(64, 64, kernel_size=(3, 3), stride=(1, 1), padding=(1, 1))\n",
              "    (7): ReLU()\n",
              "    (8): Conv2d(64, 64, kernel_size=(3, 3), stride=(2, 2), padding=(1, 1))\n",
              "    (9): ReLU()\n",
              "    (10): Conv2d(64, 128, kernel_size=(3, 3), stride=(2, 2), padding=(1, 1))\n",
              "    (11): ReLU()\n",
              "    (12): Conv2d(128, 128, kernel_size=(3, 3), stride=(2, 2), padding=(1, 1))\n",
              "    (13): ReLU()\n",
              "  )\n",
              "  (dense): Sequential(\n",
              "    (0): Linear(in_features=8192, out_features=512, bias=True)\n",
              "    (1): ReLU()\n",
              "    (2): Linear(in_features=512, out_features=48, bias=True)\n",
              "  )\n",
              ")"
            ]
          },
          "execution_count": 4,
          "metadata": {},
          "output_type": "execute_result"
        }
      ],
      "source": [
        "signature = torch.randint(0, 2, (1, NUM_BITS), device=device).float()\n",
        "wm_encoder = StegaStampEncoder(\n",
        "    IMAGE_SIZE,\n",
        "    IMAGE_CHANNELS,\n",
        "    NUM_BITS,\n",
        ")\n",
        "wm_encoder_load = torch.load('models/wm_stegastamp_encoder.pth', map_location=device, weights_only=True)\n",
        "if type(wm_encoder_load) is collections.OrderedDict:\n",
        "    wm_encoder.load_state_dict(wm_encoder_load)\n",
        "else:\n",
        "    wm_encoder = wm_encoder_load\n",
        "\n",
        "wm_decoder = StegaStampDecoder(\n",
        "    IMAGE_SIZE,\n",
        "    IMAGE_CHANNELS,\n",
        "    NUM_BITS,\n",
        ")\n",
        "wm_decoder_load = torch.load('models/wm_stegastamp_decoder.pth', map_location=device, weights_only=True)\n",
        "if type(wm_decoder_load) is collections.OrderedDict:\n",
        "    wm_decoder.load_state_dict(wm_decoder_load)\n",
        "else:\n",
        "    wm_encoder = wm_encoder_load\n",
        "\n",
        "wm_encoder.to(device)\n",
        "wm_decoder.to(device)\n"
      ]
    },
    {
      "cell_type": "code",
      "execution_count": 5,
      "id": "ceb8dd315210fafc",
      "metadata": {
        "ExecuteTime": {
          "end_time": "2024-11-19T03:23:14.326903Z",
          "start_time": "2024-11-19T03:23:14.323260Z"
        },
        "id": "ceb8dd315210fafc"
      },
      "outputs": [],
      "source": [
        "class CocoCaptionMixedWMDataset(Dataset):\n",
        "    def __init__(self, signature, coco_dataset, num_images):\n",
        "        super(CocoCaptionMixedWMDataset, self).__init__()\n",
        "        self.coco_dataset = coco_dataset\n",
        "        self.dataset = []\n",
        "        self.images = []\n",
        "        self.captions = []\n",
        "        for i in trange(num_images):\n",
        "            try:\n",
        "                image, caption = self.coco_dataset[i]\n",
        "                image = image.to(device).float()\n",
        "                wm_image = wm_encoder(signature.unsqueeze(0).to(device), image.unsqueeze(0).to(device))\n",
        "                self.dataset.append((wm_image, signature))\n",
        "                self.dataset.append((image.unsqueeze(0).to(device), caption))\n",
        "                self.images.append(wm_image)\n",
        "                self.images.append(image.unsqueeze(0).to(device))\n",
        "                self.captions.append(signature)\n",
        "                self.captions.append(caption)\n",
        "                \n",
        "            \n",
        "            except Exception as e:\n",
        "                print(e)\n",
        "        self.images = torch.stack(self.images)\n",
        "\n",
        "    def __len__(self):\n",
        "        return len(self.dataset)\n",
        "\n",
        "    def __getitem__(self, idx):\n",
        "        return self.dataset[idx]"
      ]
    },
    {
      "cell_type": "code",
      "execution_count": 6,
      "id": "bb221d060825ebc3",
      "metadata": {
        "ExecuteTime": {
          "end_time": "2024-11-19T03:23:16.566953Z",
          "start_time": "2024-11-19T03:23:16.436476Z"
        },
        "colab": {
          "base_uri": "https://localhost:8080/"
        },
        "id": "bb221d060825ebc3",
        "outputId": "625313d7-9edf-4b08-8edd-24f48165a01e"
      },
      "outputs": [
        {
          "name": "stderr",
          "output_type": "stream",
          "text": [
            "100%|██████████| 600/600 [00:08<00:00, 67.37it/s]\n",
            "100%|██████████| 300/300 [00:08<00:00, 35.51it/s]\n"
          ]
        }
      ],
      "source": [
        "train_dataset = CocoCaptionMixedWMDataset(signature, train_dataset, DATASET_SIZE)\n",
        "val_dataset = CocoCaptionMixedWMDataset(signature, val_dataset, int(DATASET_SIZE/2))"
      ]
    },
    {
      "cell_type": "code",
      "execution_count": 13,
      "id": "U4i2VxShzpZq",
      "metadata": {
        "id": "U4i2VxShzpZq"
      },
      "outputs": [
        {
          "name": "stderr",
          "output_type": "stream",
          "text": [
            "100%|██████████| 600/600 [00:32<00:00, 18.34it/s]\n"
          ]
        }
      ],
      "source": [
        "\n",
        "pred_captions = []\n",
        "true_captions = []\n",
        "tp = 1e-10\n",
        "fp = 1e-10\n",
        "fn = 1e-10\n",
        "tn = 1e-10\n",
        "for i in trange(len(val_dataset)):\n",
        "    image, caption = val_dataset[i]\n",
        "    closest_idx = torch.argmin(torch.sum(torch.sqrt((train_dataset.images - image) ** 2), dim=(1,2,3,4))).item()\n",
        "    pred_caption = train_dataset.captions[closest_idx]\n",
        "    if type(caption) is torch.Tensor:\n",
        "        caption = \"\".join(map(str, caption.int().tolist()))\n",
        "        if type(pred_caption) is torch.Tensor:\n",
        "            pred_caption = \"\".join(map(str, pred_caption.int().tolist()))\n",
        "            tp += 1\n",
        "        else:\n",
        "            fn += 1\n",
        "    else:\n",
        "        if type(pred_caption) is torch.Tensor:\n",
        "            pred_caption = \"\".join(map(str, pred_caption.int().tolist()))\n",
        "            fp += 1\n",
        "        else:\n",
        "            fn += 1\n",
        "            \n",
        "        \n",
        "    pred_captions.append(pred_caption)\n",
        "    true_captions.append(caption)\n",
        "\n",
        "    \n",
        "    "
      ]
    },
    {
      "cell_type": "code",
      "execution_count": 14,
      "id": "47c7faad",
      "metadata": {},
      "outputs": [],
      "source": [
        "def compute_evaluation_metrics(generated_captions, reference_captions):\n",
        "    \"\"\"\n",
        "    Compute METEOR and ROUGE scores for generated captions.\n",
        "\n",
        "    Args:\n",
        "        generated_captions (list of str): Captions generated by the model.\n",
        "        reference_captions (list of list of str): Reference captions for each image.\n",
        "\n",
        "    Returns:\n",
        "        dict: Dictionary containing METEOR, BLEU and ROUGE scores.\n",
        "    \"\"\"\n",
        "    # Load METEOR and ROUGE metrics\n",
        "    # Compute METEOR score\n",
        "    meteor_score = meteor.compute(predictions=generated_captions, references=reference_captions)\n",
        "\n",
        "    # Compute ROUGE scores\n",
        "    rouge_score = rouge.compute(predictions=generated_captions, references=reference_captions)\n",
        "\n",
        "    bleu_score = bleu.compute(predictions=generated_captions, references=reference_captions)\n",
        "\n",
        "    # Aggregate results\n",
        "    results = {\n",
        "        \"meteor\": meteor_score[\"meteor\"],\n",
        "        \"bleu\": bleu_score[\"bleu\"],\n",
        "        \"rouge1\": rouge_score[\"rouge1\"],\n",
        "        \"rouge2\": rouge_score[\"rouge2\"],\n",
        "        \"rougeL\": rouge_score[\"rougeL\"],\n",
        "    }\n",
        "\n",
        "    return results"
      ]
    },
    {
      "cell_type": "code",
      "execution_count": 15,
      "id": "d8626f0a",
      "metadata": {},
      "outputs": [
        {
          "name": "stdout",
          "output_type": "stream",
          "text": [
            "{'meteor': 0.49009940085471404, 'bleu': 0.4857747833015032, 'rouge1': 0.4665265127817766, 'rouge2': 0.43441502253911024, 'rougeL': 0.45614368503642344}\n",
            "Precision:  0.5493562231759445\n",
            "Recall:  0.6564102564101763\n",
            "F-1:  0.5981308411214494\n"
          ]
        }
      ],
      "source": [
        "print(compute_evaluation_metrics(pred_captions, true_captions))\n",
        "print(\"Precision: \", tp/(tp+fp))\n",
        "print(\"Recall: \", tp/(tp+fn))\n",
        "print(\"F-1: \", 2*tp/(2*tp+fp+fn))"
      ]
    },
    {
      "cell_type": "code",
      "execution_count": null,
      "id": "ab708831",
      "metadata": {},
      "outputs": [],
      "source": []
    }
  ],
  "metadata": {
    "accelerator": "GPU",
    "colab": {
      "gpuType": "T4",
      "provenance": []
    },
    "kernelspec": {
      "display_name": "Python 3",
      "name": "python3"
    },
    "language_info": {
      "codemirror_mode": {
        "name": "ipython",
        "version": 3
      },
      "file_extension": ".py",
      "mimetype": "text/x-python",
      "name": "python",
      "nbconvert_exporter": "python",
      "pygments_lexer": "ipython3",
      "version": "3.9.6"
    }
  },
  "nbformat": 4,
  "nbformat_minor": 5
}
