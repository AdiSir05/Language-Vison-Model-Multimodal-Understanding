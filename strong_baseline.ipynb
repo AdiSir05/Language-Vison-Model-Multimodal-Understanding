{
 "cells": [
  {
   "cell_type": "code",
   "execution_count": 1,
   "id": "initial_id",
   "metadata": {
    "ExecuteTime": {
     "end_time": "2024-11-20T02:44:14.589041Z",
     "start_time": "2024-11-20T02:44:14.585735Z"
    },
    "collapsed": true
   },
   "outputs": [
    {
     "name": "stderr",
     "output_type": "stream",
     "text": [
      "/Users/varunchitturi/Library/Python/3.9/lib/python/site-packages/urllib3/__init__.py:35: NotOpenSSLWarning: urllib3 v2 only supports OpenSSL 1.1.1+, currently the 'ssl' module is compiled with 'LibreSSL 2.8.3'. See: https://github.com/urllib3/urllib3/issues/3020\n",
      "  warnings.warn(\n",
      "[nltk_data] Downloading package wordnet to\n",
      "[nltk_data]     /Users/varunchitturi/nltk_data...\n",
      "[nltk_data]   Package wordnet is already up-to-date!\n",
      "[nltk_data] Downloading package punkt_tab to\n",
      "[nltk_data]     /Users/varunchitturi/nltk_data...\n",
      "[nltk_data]   Package punkt_tab is already up-to-date!\n",
      "[nltk_data] Downloading package omw-1.4 to\n",
      "[nltk_data]     /Users/varunchitturi/nltk_data...\n",
      "[nltk_data]   Package omw-1.4 is already up-to-date!\n"
     ]
    }
   ],
   "source": [
    "import torch\n",
    "from torch.utils.data import Dataset, DataLoader\n",
    "from torchvision import transforms, datasets\n",
    "from bert_score import score\n",
    "from matplotlib import pyplot as plt\n",
    "import collections\n",
    "from transformers import VisionEncoderDecoderModel, ViTFeatureExtractor,AutoTokenizer\n",
    "from tqdm import trange\n",
    "import numpy as np\n",
    "from models.stegastamp_wm import StegaStampDecoder, StegaStampEncoder\n",
    "from evaluate import load\n",
    "from score import f1, compute_evaluation_metrics\n"
   ]
  },
  {
   "cell_type": "code",
   "execution_count": 2,
   "id": "8f703baf49f7c115",
   "metadata": {
    "ExecuteTime": {
     "end_time": "2024-11-20T02:44:15.683066Z",
     "start_time": "2024-11-20T02:44:15.298811Z"
    }
   },
   "outputs": [
    {
     "name": "stdout",
     "output_type": "stream",
     "text": [
      "loading annotations into memory...\n",
      "Done (t=0.29s)\n",
      "creating index...\n",
      "index created!\n"
     ]
    }
   ],
   "source": [
    "DATASET_SIZE = 1000\n",
    "IMAGE_SIZE = 256\n",
    "NUM_BITS = 48\n",
    "IMAGE_CHANNELS = 3\n",
    "\n",
    "if torch.backends.mps.is_available():\n",
    "    device = torch.device('mps')\n",
    "else:\n",
    "    device = torch.device('cuda') if torch.cuda.is_available() else 'cpu'\n",
    "\n",
    "\n",
    "coco_dataset = datasets.CocoCaptions(root = './data/images/train',\n",
    "                        annFile = './data/annotations/train_captions.json',\n",
    "                        transform=transforms.Compose([\n",
    "                            transforms.Resize(IMAGE_SIZE),\n",
    "                            transforms.CenterCrop(IMAGE_SIZE),\n",
    "                            transforms.ToTensor()\n",
    "                        ]))\n"
   ]
  },
  {
   "cell_type": "code",
   "execution_count": 3,
   "id": "4261a76a11128fa5",
   "metadata": {
    "ExecuteTime": {
     "end_time": "2024-11-20T02:44:16.626284Z",
     "start_time": "2024-11-20T02:44:16.435419Z"
    }
   },
   "outputs": [
    {
     "data": {
      "text/plain": [
       "StegaStampDecoder(\n",
       "  (decoder): Sequential(\n",
       "    (0): Conv2d(3, 32, kernel_size=(3, 3), stride=(2, 2), padding=(1, 1))\n",
       "    (1): ReLU()\n",
       "    (2): Conv2d(32, 32, kernel_size=(3, 3), stride=(1, 1), padding=(1, 1))\n",
       "    (3): ReLU()\n",
       "    (4): Conv2d(32, 64, kernel_size=(3, 3), stride=(2, 2), padding=(1, 1))\n",
       "    (5): ReLU()\n",
       "    (6): Conv2d(64, 64, kernel_size=(3, 3), stride=(1, 1), padding=(1, 1))\n",
       "    (7): ReLU()\n",
       "    (8): Conv2d(64, 64, kernel_size=(3, 3), stride=(2, 2), padding=(1, 1))\n",
       "    (9): ReLU()\n",
       "    (10): Conv2d(64, 128, kernel_size=(3, 3), stride=(2, 2), padding=(1, 1))\n",
       "    (11): ReLU()\n",
       "    (12): Conv2d(128, 128, kernel_size=(3, 3), stride=(2, 2), padding=(1, 1))\n",
       "    (13): ReLU()\n",
       "  )\n",
       "  (dense): Sequential(\n",
       "    (0): Linear(in_features=8192, out_features=512, bias=True)\n",
       "    (1): ReLU()\n",
       "    (2): Linear(in_features=512, out_features=48, bias=True)\n",
       "  )\n",
       ")"
      ]
     },
     "execution_count": 3,
     "metadata": {},
     "output_type": "execute_result"
    }
   ],
   "source": [
    "signature = torch.randint(0, 2, (1, NUM_BITS), device=device).float()\n",
    "wm_encoder = StegaStampEncoder(\n",
    "    IMAGE_SIZE,\n",
    "    IMAGE_CHANNELS,\n",
    "    NUM_BITS,\n",
    ")\n",
    "wm_encoder_load = torch.load('models/wm_stegastamp_encoder.pth', map_location=device, weights_only=True)\n",
    "if type(wm_encoder_load) is collections.OrderedDict:\n",
    "    wm_encoder.load_state_dict(wm_encoder_load)\n",
    "else:\n",
    "    wm_encoder = wm_encoder_load\n",
    "\n",
    "wm_decoder = StegaStampDecoder(\n",
    "    IMAGE_SIZE,\n",
    "    IMAGE_CHANNELS,\n",
    "    NUM_BITS,\n",
    ")\n",
    "wm_decoder_load = torch.load('models/wm_stegastamp_decoder.pth', map_location=device, weights_only=True)\n",
    "if type(wm_decoder_load) is collections.OrderedDict:\n",
    "    wm_decoder.load_state_dict(wm_decoder_load)\n",
    "else:\n",
    "    wm_encoder = wm_encoder_load\n",
    "    \n",
    "wm_encoder.to(device)\n",
    "wm_decoder.to(device)\n"
   ]
  },
  {
   "cell_type": "code",
   "execution_count": 4,
   "id": "ceb8dd315210fafc",
   "metadata": {
    "ExecuteTime": {
     "end_time": "2024-11-20T02:50:14.650040Z",
     "start_time": "2024-11-20T02:50:14.645243Z"
    }
   },
   "outputs": [],
   "source": [
    "class CocoCaptionMixedWMDataset(Dataset):\n",
    "    def __init__(self, signature, coco_dataset, num_images):\n",
    "        super(CocoCaptionMixedWMDataset, self).__init__()\n",
    "        self.coco_dataset = coco_dataset\n",
    "        self.dataset = []\n",
    "        for i in trange(num_images):\n",
    "            try:\n",
    "                image, caption = self.coco_dataset[i]\n",
    "                image = image.to(device).float()\n",
    "                wm_image = wm_encoder(signature.unsqueeze(0).to(device), image.unsqueeze(0).to(device))\n",
    "                self.dataset.append((wm_image, signature))\n",
    "                self.dataset.append((image.unsqueeze(0).to(device), caption))\n",
    "            except Exception as e:\n",
    "                print(e)\n",
    "        \n",
    "    def __len__(self):\n",
    "        return len(self.dataset)\n",
    "    \n",
    "    def __getitem__(self, idx):\n",
    "        return self.dataset[idx]"
   ]
  },
  {
   "cell_type": "code",
   "execution_count": 5,
   "id": "bb221d060825ebc3",
   "metadata": {
    "ExecuteTime": {
     "start_time": "2024-11-20T02:50:16.613529Z"
    }
   },
   "outputs": [
    {
     "name": "stderr",
     "output_type": "stream",
     "text": [
      "100%|██████████| 1000/1000 [00:22<00:00, 45.45it/s]\n"
     ]
    }
   ],
   "source": [
    "dataset = CocoCaptionMixedWMDataset(signature, coco_dataset, DATASET_SIZE)"
   ]
  },
  {
   "cell_type": "code",
   "execution_count": 6,
   "id": "14b4be0315a28355",
   "metadata": {},
   "outputs": [],
   "source": [
    "model = VisionEncoderDecoderModel.from_pretrained(\"nlpconnect/vit-gpt2-image-captioning\")\n",
    "feature_extractor = ViTFeatureExtractor.from_pretrained(\"nlpconnect/vit-gpt2-image-captioning\")\n",
    "tokenizer = AutoTokenizer.from_pretrained(\"nlpconnect/vit-gpt2-image-captioning\")\n",
    "\n",
    "model.to(device)"
   ]
  },
  {
   "cell_type": "code",
   "execution_count": 22,
   "id": "f80de81763b5a655",
   "metadata": {},
   "outputs": [
    {
     "name": "stderr",
     "output_type": "stream",
     "text": [
      "100%|██████████| 2000/2000 [12:44<00:00,  2.62it/s]\n",
      "[nltk_data] Downloading package wordnet to\n",
      "[nltk_data]     /Users/varunchitturi/nltk_data...\n",
      "[nltk_data]   Package wordnet is already up-to-date!\n",
      "[nltk_data] Downloading package punkt_tab to\n",
      "[nltk_data]     /Users/varunchitturi/nltk_data...\n",
      "[nltk_data]   Package punkt_tab is already up-to-date!\n",
      "[nltk_data] Downloading package omw-1.4 to\n",
      "[nltk_data]     /Users/varunchitturi/nltk_data...\n",
      "[nltk_data]   Package omw-1.4 is already up-to-date!\n"
     ]
    },
    {
     "name": "stdout",
     "output_type": "stream",
     "text": [
      "Precision:  0.9999999999998973\n",
      "Recall:  0.9739999999999052\n",
      "F-1:  0.986828774062718\n",
      "Avg bit decoding error: 1.1150000095367432\n"
     ]
    }
   ],
   "source": [
    "tp = 1e-10\n",
    "fp = 1e-10\n",
    "fn = 1e-10\n",
    "tn = 1e-10\n",
    "bit_threshold = 5\n",
    "bit_decoding_err = []\n",
    "pred_captions = []\n",
    "true_captions = []\n",
    "for i in trange(len(dataset)):\n",
    "    image, caption = dataset[i]\n",
    "    decoded_signature = (wm_decoder(image) > 0).float()\n",
    "    with torch.no_grad():\n",
    "        outputs = model.generate(image[:, :, 16:240, 16:240], max_length=50)\n",
    "    pred_caption = tokenizer.batch_decode(outputs, skip_special_tokens=True)\n",
    "   \n",
    "    bit_match = torch.sum(torch.eq(decoded_signature, signature))\n",
    "    if signature.shape[1] - bit_match <= bit_threshold:\n",
    "        pred_caption = \"\".join(map(str, decoded_signature.int().tolist()))\n",
    "        if type(caption) is torch.Tensor:\n",
    "            caption = \"\".join(map(str, caption.int().tolist()))\n",
    "            bit_decoding_err.append(signature.shape[1] - bit_match)\n",
    "            tp +=1\n",
    "        else:\n",
    "            fp +=1\n",
    "    else:\n",
    "        if type(caption) is torch.Tensor:\n",
    "            caption = \"\".join(map(str, caption.int().tolist()))\n",
    "            bit_decoding_err.append(signature.shape[1] - bit_match)\n",
    "            fn += 1\n",
    "        else:\n",
    "            tn += 1\n",
    "    pred_captions.append(pred_caption)\n",
    "    true_captions.append(caption)\n",
    "    "
   ]
  },
  {
   "cell_type": "code",
   "execution_count": 29,
   "id": "438c57b7",
   "metadata": {},
   "outputs": [
    {
     "name": "stdout",
     "output_type": "stream",
     "text": [
      "{'meteor': 0.4998037241863639, 'bleu': 0.5420715205767918, 'rouge1': 0.5979489978464102, 'rouge2': 0.5405927172450341, 'rougeL': 0.5820382476150605}\n",
      "Precision:  0.9999999999998973\n",
      "Recall:  0.9739999999999052\n",
      "F-1:  0.986828774062718\n",
      "Avg bit decoding error: 1.1150000095367432\n"
     ]
    }
   ],
   "source": [
    "print(compute_evaluation_metrics(pred_captions, true_captions))\n",
    "print(f1(tp, tn, fp, fn))\n",
    "print(\"Avg bit decoding error:\", (sum(bit_decoding_err)/len(bit_decoding_err)).item())"
   ]
  },
  {
   "cell_type": "code",
   "execution_count": null,
   "id": "5ab48b00",
   "metadata": {},
   "outputs": [],
   "source": []
  }
 ],
 "metadata": {
  "kernelspec": {
   "display_name": "Python 3",
   "language": "python",
   "name": "python3"
  },
  "language_info": {
   "codemirror_mode": {
    "name": "ipython",
    "version": 3
   },
   "file_extension": ".py",
   "mimetype": "text/x-python",
   "name": "python",
   "nbconvert_exporter": "python",
   "pygments_lexer": "ipython3",
   "version": "3.9.6"
  }
 },
 "nbformat": 4,
 "nbformat_minor": 5
}
