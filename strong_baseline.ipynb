{
 "cells": [
  {
   "cell_type": "code",
   "execution_count": 1,
   "id": "initial_id",
   "metadata": {
    "ExecuteTime": {
     "end_time": "2024-11-20T02:44:14.589041Z",
     "start_time": "2024-11-20T02:44:14.585735Z"
    },
    "collapsed": true
   },
   "outputs": [
    {
     "name": "stderr",
     "output_type": "stream",
     "text": [
      "/Users/varunchitturi/Library/Python/3.9/lib/python/site-packages/urllib3/__init__.py:35: NotOpenSSLWarning: urllib3 v2 only supports OpenSSL 1.1.1+, currently the 'ssl' module is compiled with 'LibreSSL 2.8.3'. See: https://github.com/urllib3/urllib3/issues/3020\n",
      "  warnings.warn(\n",
      "[nltk_data] Downloading package wordnet to\n",
      "[nltk_data]     /Users/varunchitturi/nltk_data...\n",
      "[nltk_data]   Package wordnet is already up-to-date!\n",
      "[nltk_data] Downloading package punkt_tab to\n",
      "[nltk_data]     /Users/varunchitturi/nltk_data...\n",
      "[nltk_data]   Package punkt_tab is already up-to-date!\n",
      "[nltk_data] Downloading package omw-1.4 to\n",
      "[nltk_data]     /Users/varunchitturi/nltk_data...\n",
      "[nltk_data]   Package omw-1.4 is already up-to-date!\n"
     ]
    }
   ],
   "source": [
    "import torch\n",
    "from torch.utils.data import Dataset, DataLoader\n",
    "from torchvision import transforms, datasets\n",
    "from bert_score import score\n",
    "from matplotlib import pyplot as plt\n",
    "import collections\n",
    "from transformers import VisionEncoderDecoderModel, ViTFeatureExtractor,AutoTokenizer\n",
    "from tqdm import trange\n",
    "import numpy as np\n",
    "from models.stegastamp_wm import StegaStampDecoder, StegaStampEncoder\n",
    "from evaluate import load\n",
    "from score import f1, compute_evaluation_metrics\n"
   ]
  },
  {
   "cell_type": "code",
   "execution_count": 2,
   "id": "8f703baf49f7c115",
   "metadata": {
    "ExecuteTime": {
     "end_time": "2024-11-20T02:44:15.683066Z",
     "start_time": "2024-11-20T02:44:15.298811Z"
    }
   },
   "outputs": [
    {
     "name": "stdout",
     "output_type": "stream",
     "text": [
      "loading annotations into memory...\n",
      "Done (t=0.27s)\n",
      "creating index...\n",
      "index created!\n"
     ]
    }
   ],
   "source": [
    "DATASET_SIZE = 1000\n",
    "IMAGE_SIZE = 256\n",
    "NUM_BITS = 48\n",
    "IMAGE_CHANNELS = 3\n",
    "\n",
    "if torch.backends.mps.is_available():\n",
    "    device = torch.device('mps')\n",
    "else:\n",
    "    device = torch.device('cuda') if torch.cuda.is_available() else 'cpu'\n",
    "\n",
    "\n",
    "coco_dataset = datasets.CocoCaptions(root = './data/images/train',\n",
    "                        annFile = './data/annotations/train_captions.json',\n",
    "                        transform=transforms.Compose([\n",
    "                            transforms.Resize(IMAGE_SIZE),\n",
    "                            transforms.CenterCrop(IMAGE_SIZE),\n",
    "                            transforms.ToTensor()\n",
    "                        ]))\n"
   ]
  },
  {
   "cell_type": "code",
   "execution_count": 3,
   "id": "4261a76a11128fa5",
   "metadata": {
    "ExecuteTime": {
     "end_time": "2024-11-20T02:44:16.626284Z",
     "start_time": "2024-11-20T02:44:16.435419Z"
    }
   },
   "outputs": [
    {
     "data": {
      "text/plain": [
       "StegaStampDecoder(\n",
       "  (decoder): Sequential(\n",
       "    (0): Conv2d(3, 32, kernel_size=(3, 3), stride=(2, 2), padding=(1, 1))\n",
       "    (1): ReLU()\n",
       "    (2): Conv2d(32, 32, kernel_size=(3, 3), stride=(1, 1), padding=(1, 1))\n",
       "    (3): ReLU()\n",
       "    (4): Conv2d(32, 64, kernel_size=(3, 3), stride=(2, 2), padding=(1, 1))\n",
       "    (5): ReLU()\n",
       "    (6): Conv2d(64, 64, kernel_size=(3, 3), stride=(1, 1), padding=(1, 1))\n",
       "    (7): ReLU()\n",
       "    (8): Conv2d(64, 64, kernel_size=(3, 3), stride=(2, 2), padding=(1, 1))\n",
       "    (9): ReLU()\n",
       "    (10): Conv2d(64, 128, kernel_size=(3, 3), stride=(2, 2), padding=(1, 1))\n",
       "    (11): ReLU()\n",
       "    (12): Conv2d(128, 128, kernel_size=(3, 3), stride=(2, 2), padding=(1, 1))\n",
       "    (13): ReLU()\n",
       "  )\n",
       "  (dense): Sequential(\n",
       "    (0): Linear(in_features=8192, out_features=512, bias=True)\n",
       "    (1): ReLU()\n",
       "    (2): Linear(in_features=512, out_features=48, bias=True)\n",
       "  )\n",
       ")"
      ]
     },
     "execution_count": 3,
     "metadata": {},
     "output_type": "execute_result"
    }
   ],
   "source": [
    "signature = torch.randint(0, 2, (1, NUM_BITS), device=device).float()\n",
    "wm_encoder = StegaStampEncoder(\n",
    "    IMAGE_SIZE,\n",
    "    IMAGE_CHANNELS,\n",
    "    NUM_BITS,\n",
    ")\n",
    "wm_encoder_load = torch.load('models/wm_stegastamp_encoder.pth', map_location=device, weights_only=True)\n",
    "if type(wm_encoder_load) is collections.OrderedDict:\n",
    "    wm_encoder.load_state_dict(wm_encoder_load)\n",
    "else:\n",
    "    wm_encoder = wm_encoder_load\n",
    "\n",
    "wm_decoder = StegaStampDecoder(\n",
    "    IMAGE_SIZE,\n",
    "    IMAGE_CHANNELS,\n",
    "    NUM_BITS,\n",
    ")\n",
    "wm_decoder_load = torch.load('models/wm_stegastamp_decoder.pth', map_location=device, weights_only=True)\n",
    "if type(wm_decoder_load) is collections.OrderedDict:\n",
    "    wm_decoder.load_state_dict(wm_decoder_load)\n",
    "else:\n",
    "    wm_encoder = wm_encoder_load\n",
    "    \n",
    "wm_encoder.to(device)\n",
    "wm_decoder.to(device)\n"
   ]
  },
  {
   "cell_type": "code",
   "execution_count": 4,
   "id": "ceb8dd315210fafc",
   "metadata": {
    "ExecuteTime": {
     "end_time": "2024-11-20T02:50:14.650040Z",
     "start_time": "2024-11-20T02:50:14.645243Z"
    }
   },
   "outputs": [],
   "source": [
    "class CocoCaptionMixedWMDataset(Dataset):\n",
    "    def __init__(self, signature, coco_dataset, num_images):\n",
    "        super(CocoCaptionMixedWMDataset, self).__init__()\n",
    "        self.coco_dataset = coco_dataset\n",
    "        self.dataset = []\n",
    "        for i in trange(num_images):\n",
    "            try:\n",
    "                image, caption = self.coco_dataset[i]\n",
    "                image = image.to(device).float()\n",
    "                wm_image = wm_encoder(signature.unsqueeze(0).to(device), image.unsqueeze(0).to(device))\n",
    "                self.dataset.append((wm_image, signature))\n",
    "                self.dataset.append((image.unsqueeze(0).to(device), caption))\n",
    "            except Exception as e:\n",
    "                print(e)\n",
    "        \n",
    "    def __len__(self):\n",
    "        return len(self.dataset)\n",
    "    \n",
    "    def __getitem__(self, idx):\n",
    "        return self.dataset[idx]"
   ]
  },
  {
   "cell_type": "code",
   "execution_count": 5,
   "id": "bb221d060825ebc3",
   "metadata": {
    "ExecuteTime": {
     "start_time": "2024-11-20T02:50:16.613529Z"
    }
   },
   "outputs": [
    {
     "name": "stderr",
     "output_type": "stream",
     "text": [
      "100%|██████████| 1000/1000 [00:24<00:00, 40.48it/s]\n"
     ]
    }
   ],
   "source": [
    "dataset = CocoCaptionMixedWMDataset(signature, coco_dataset, DATASET_SIZE)"
   ]
  },
  {
   "cell_type": "code",
   "execution_count": 6,
   "id": "14b4be0315a28355",
   "metadata": {},
   "outputs": [
    {
     "name": "stderr",
     "output_type": "stream",
     "text": [
      "/Users/varunchitturi/Library/Python/3.9/lib/python/site-packages/transformers/models/vit/feature_extraction_vit.py:28: FutureWarning: The class ViTFeatureExtractor is deprecated and will be removed in version 5 of Transformers. Please use ViTImageProcessor instead.\n",
      "  warnings.warn(\n",
      "/Users/varunchitturi/Library/Python/3.9/lib/python/site-packages/transformers/tokenization_utils_base.py:1601: FutureWarning: `clean_up_tokenization_spaces` was not set. It will be set to `True` by default. This behavior will be depracted in transformers v4.45, and will be then set to `False` by default. For more details check this issue: https://github.com/huggingface/transformers/issues/31884\n",
      "  warnings.warn(\n"
     ]
    },
    {
     "data": {
      "text/plain": [
       "VisionEncoderDecoderModel(\n",
       "  (encoder): ViTModel(\n",
       "    (embeddings): ViTEmbeddings(\n",
       "      (patch_embeddings): ViTPatchEmbeddings(\n",
       "        (projection): Conv2d(3, 768, kernel_size=(16, 16), stride=(16, 16))\n",
       "      )\n",
       "      (dropout): Dropout(p=0.0, inplace=False)\n",
       "    )\n",
       "    (encoder): ViTEncoder(\n",
       "      (layer): ModuleList(\n",
       "        (0-11): 12 x ViTLayer(\n",
       "          (attention): ViTAttention(\n",
       "            (attention): ViTSelfAttention(\n",
       "              (query): Linear(in_features=768, out_features=768, bias=True)\n",
       "              (key): Linear(in_features=768, out_features=768, bias=True)\n",
       "              (value): Linear(in_features=768, out_features=768, bias=True)\n",
       "              (dropout): Dropout(p=0.0, inplace=False)\n",
       "            )\n",
       "            (output): ViTSelfOutput(\n",
       "              (dense): Linear(in_features=768, out_features=768, bias=True)\n",
       "              (dropout): Dropout(p=0.0, inplace=False)\n",
       "            )\n",
       "          )\n",
       "          (intermediate): ViTIntermediate(\n",
       "            (dense): Linear(in_features=768, out_features=3072, bias=True)\n",
       "            (intermediate_act_fn): GELUActivation()\n",
       "          )\n",
       "          (output): ViTOutput(\n",
       "            (dense): Linear(in_features=3072, out_features=768, bias=True)\n",
       "            (dropout): Dropout(p=0.0, inplace=False)\n",
       "          )\n",
       "          (layernorm_before): LayerNorm((768,), eps=1e-12, elementwise_affine=True)\n",
       "          (layernorm_after): LayerNorm((768,), eps=1e-12, elementwise_affine=True)\n",
       "        )\n",
       "      )\n",
       "    )\n",
       "    (layernorm): LayerNorm((768,), eps=1e-12, elementwise_affine=True)\n",
       "    (pooler): ViTPooler(\n",
       "      (dense): Linear(in_features=768, out_features=768, bias=True)\n",
       "      (activation): Tanh()\n",
       "    )\n",
       "  )\n",
       "  (decoder): GPT2LMHeadModel(\n",
       "    (transformer): GPT2Model(\n",
       "      (wte): Embedding(50257, 768)\n",
       "      (wpe): Embedding(1024, 768)\n",
       "      (drop): Dropout(p=0.1, inplace=False)\n",
       "      (h): ModuleList(\n",
       "        (0-11): 12 x GPT2Block(\n",
       "          (ln_1): LayerNorm((768,), eps=1e-05, elementwise_affine=True)\n",
       "          (attn): GPT2Attention(\n",
       "            (c_attn): Conv1D()\n",
       "            (c_proj): Conv1D()\n",
       "            (attn_dropout): Dropout(p=0.1, inplace=False)\n",
       "            (resid_dropout): Dropout(p=0.1, inplace=False)\n",
       "          )\n",
       "          (ln_2): LayerNorm((768,), eps=1e-05, elementwise_affine=True)\n",
       "          (crossattention): GPT2Attention(\n",
       "            (c_attn): Conv1D()\n",
       "            (q_attn): Conv1D()\n",
       "            (c_proj): Conv1D()\n",
       "            (attn_dropout): Dropout(p=0.1, inplace=False)\n",
       "            (resid_dropout): Dropout(p=0.1, inplace=False)\n",
       "          )\n",
       "          (ln_cross_attn): LayerNorm((768,), eps=1e-05, elementwise_affine=True)\n",
       "          (mlp): GPT2MLP(\n",
       "            (c_fc): Conv1D()\n",
       "            (c_proj): Conv1D()\n",
       "            (act): NewGELUActivation()\n",
       "            (dropout): Dropout(p=0.1, inplace=False)\n",
       "          )\n",
       "        )\n",
       "      )\n",
       "      (ln_f): LayerNorm((768,), eps=1e-05, elementwise_affine=True)\n",
       "    )\n",
       "    (lm_head): Linear(in_features=768, out_features=50257, bias=False)\n",
       "  )\n",
       ")"
      ]
     },
     "execution_count": 6,
     "metadata": {},
     "output_type": "execute_result"
    }
   ],
   "source": [
    "model = VisionEncoderDecoderModel.from_pretrained(\"nlpconnect/vit-gpt2-image-captioning\")\n",
    "feature_extractor = ViTFeatureExtractor.from_pretrained(\"nlpconnect/vit-gpt2-image-captioning\")\n",
    "tokenizer = AutoTokenizer.from_pretrained(\"nlpconnect/vit-gpt2-image-captioning\")\n",
    "\n",
    "model.to(device)"
   ]
  },
  {
   "cell_type": "code",
   "execution_count": 15,
   "id": "f80de81763b5a655",
   "metadata": {},
   "outputs": [
    {
     "name": "stderr",
     "output_type": "stream",
     "text": [
      "100%|██████████| 2000/2000 [09:05<00:00,  3.66it/s]\n"
     ]
    }
   ],
   "source": [
    "tp = 1e-10\n",
    "fp = 1e-10\n",
    "fn = 1e-10\n",
    "tn = 1e-10\n",
    "bit_threshold = 5\n",
    "bit_decoding_err = []\n",
    "pred_captions = []\n",
    "true_captions = []\n",
    "for i in trange(len(dataset)):\n",
    "    image, caption = dataset[i]\n",
    "    decoded_signature = (wm_decoder(image) > 0).float()\n",
    "    with torch.no_grad():\n",
    "        outputs = model.generate(image[:, :, 16:240, 16:240], max_length=50)\n",
    "    pred_caption = tokenizer.batch_decode(outputs, skip_special_tokens=True)[0]\n",
    "    bit_match = torch.sum(torch.eq(decoded_signature, signature))\n",
    "    if signature.shape[1] - bit_match <= bit_threshold:\n",
    "        pred_caption = \"\".join(map(str, decoded_signature.squeeze().int().tolist()))\n",
    "        if type(caption) is torch.Tensor:\n",
    "            caption = [\"\".join(map(str, caption.squeeze().int().tolist()))]\n",
    "\n",
    "            bit_decoding_err.append(signature.shape[1] - bit_match)\n",
    "            tp += 1\n",
    "        else:\n",
    "            fp += 1\n",
    "    else:\n",
    "        if type(caption) is torch.Tensor:\n",
    "            caption = [\"\".join(map(str, caption.squeeze().int().tolist()))]\n",
    "            bit_decoding_err.append(signature.shape[1] - bit_match)\n",
    "            fn += 1\n",
    "        else:\n",
    "            tn += 1\n",
    "    pred_captions.append(pred_caption)\n",
    "    true_captions.append(caption)\n",
    "    "
   ]
  },
  {
   "cell_type": "code",
   "execution_count": 16,
   "id": "438c57b7",
   "metadata": {},
   "outputs": [
    {
     "name": "stdout",
     "output_type": "stream",
     "text": [
      "{'meteor': 0.34689708099758887, 'bleu': 0.2623011782458244, 'rouge1': 0.5263947638545295, 'rouge2': 0.16398056382581075, 'rougeL': 0.5050689780629117}\n",
      "{'Precision': 0.9999999999998951, 'Recall': 0.9539999999999091, 'F1-score': 0.9764585465710386}\n",
      "Avg bit decoding error: 1.3830000162124634\n"
     ]
    }
   ],
   "source": [
    "print(compute_evaluation_metrics(pred_captions, true_captions))\n",
    "print(f1(tp, tn, fp, fn))\n",
    "print(\"Avg bit decoding error:\", (sum(bit_decoding_err)/len(bit_decoding_err)).item())"
   ]
  },
  {
   "cell_type": "code",
   "execution_count": null,
   "id": "5ab48b00",
   "metadata": {},
   "outputs": [],
   "source": []
  }
 ],
 "metadata": {
  "kernelspec": {
   "display_name": "Python 3",
   "language": "python",
   "name": "python3"
  },
  "language_info": {
   "codemirror_mode": {
    "name": "ipython",
    "version": 3
   },
   "file_extension": ".py",
   "mimetype": "text/x-python",
   "name": "python",
   "nbconvert_exporter": "python",
   "pygments_lexer": "ipython3",
   "version": "3.9.6"
  }
 },
 "nbformat": 4,
 "nbformat_minor": 5
}
