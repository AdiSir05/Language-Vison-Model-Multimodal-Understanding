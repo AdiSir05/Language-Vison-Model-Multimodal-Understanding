{
 "cells": [
  {
   "cell_type": "code",
   "execution_count": 1,
   "id": "initial_id",
   "metadata": {
    "ExecuteTime": {
     "end_time": "2024-12-05T14:10:49.877011Z",
     "start_time": "2024-12-05T14:10:41.657072Z"
    },
    "collapsed": true
   },
   "outputs": [
    {
     "name": "stderr",
     "output_type": "stream",
     "text": [
      "/Users/varunchitturi/Library/Python/3.9/lib/python/site-packages/urllib3/__init__.py:35: NotOpenSSLWarning: urllib3 v2 only supports OpenSSL 1.1.1+, currently the 'ssl' module is compiled with 'LibreSSL 2.8.3'. See: https://github.com/urllib3/urllib3/issues/3020\n",
      "  warnings.warn(\n",
      "[nltk_data] Downloading package wordnet to\n",
      "[nltk_data]     /Users/varunchitturi/nltk_data...\n",
      "[nltk_data]   Package wordnet is already up-to-date!\n",
      "[nltk_data] Downloading package punkt_tab to\n",
      "[nltk_data]     /Users/varunchitturi/nltk_data...\n",
      "[nltk_data]   Package punkt_tab is already up-to-date!\n",
      "[nltk_data] Downloading package omw-1.4 to\n",
      "[nltk_data]     /Users/varunchitturi/nltk_data...\n",
      "[nltk_data]   Package omw-1.4 is already up-to-date!\n"
     ]
    }
   ],
   "source": [
    "import torch\n",
    "import torch.nn as nn\n",
    "from torch.utils.data import Dataset, DataLoader\n",
    "from torchvision import transforms, datasets\n",
    "from matplotlib import pyplot as plt\n",
    "import collections\n",
    "from tqdm import trange\n",
    "import numpy as np\n",
    "from models.VisionTransformer import VisionTransformerClassifier\n",
    "from models.stegastamp_wm import StegaStampDecoder, StegaStampEncoder\n",
    "from evaluate import load\n",
    "from score import f1, compute_evaluation_metrics\n",
    "import torch.optim as optim\n"
   ]
  },
  {
   "cell_type": "code",
   "execution_count": 2,
   "id": "b8ccf81e862deff",
   "metadata": {
    "ExecuteTime": {
     "end_time": "2024-12-05T14:10:50.529115Z",
     "start_time": "2024-12-05T14:10:49.879116Z"
    }
   },
   "outputs": [
    {
     "name": "stdout",
     "output_type": "stream",
     "text": [
      "loading annotations into memory...\n",
      "Done (t=0.27s)\n",
      "creating index...\n",
      "index created!\n",
      "loading annotations into memory...\n",
      "Done (t=0.13s)\n",
      "creating index...\n",
      "index created!\n"
     ]
    }
   ],
   "source": [
    "DATASET_SIZE = 1000\n",
    "IMAGE_SIZE = 256\n",
    "NUM_BITS = 48\n",
    "IMAGE_CHANNELS = 3\n",
    "\n",
    "if torch.backends.mps.is_available():\n",
    "    device = torch.device('mps')\n",
    "else:\n",
    "    device = torch.device('cuda') if torch.cuda.is_available() else 'cpu'\n",
    "\n",
    "\n",
    "coco_dataset_train = datasets.CocoCaptions(root = './data/images/train',\n",
    "                                     annFile = './data/annotations/train_captions.json',\n",
    "                                     transform=transforms.Compose([\n",
    "                                         transforms.Resize(IMAGE_SIZE),\n",
    "                                         transforms.CenterCrop(IMAGE_SIZE),\n",
    "                                         transforms.ToTensor()\n",
    "                                     ]))\n",
    "coco_dataset_val = datasets.CocoCaptions(root = './data/images/val',\n",
    "                                           annFile = './data/annotations/val_captions.json',\n",
    "                                           transform=transforms.Compose([\n",
    "                                               transforms.Resize(IMAGE_SIZE),\n",
    "                                               transforms.CenterCrop(IMAGE_SIZE),\n",
    "                                               transforms.ToTensor()\n",
    "                                           ]))"
   ]
  },
  {
   "cell_type": "code",
   "execution_count": 3,
   "id": "359f416928861756",
   "metadata": {
    "ExecuteTime": {
     "end_time": "2024-12-05T14:10:50.648052Z",
     "start_time": "2024-12-05T14:10:50.530019Z"
    }
   },
   "outputs": [
    {
     "data": {
      "text/plain": [
       "StegaStampDecoder(\n",
       "  (decoder): Sequential(\n",
       "    (0): Conv2d(3, 32, kernel_size=(3, 3), stride=(2, 2), padding=(1, 1))\n",
       "    (1): ReLU()\n",
       "    (2): Conv2d(32, 32, kernel_size=(3, 3), stride=(1, 1), padding=(1, 1))\n",
       "    (3): ReLU()\n",
       "    (4): Conv2d(32, 64, kernel_size=(3, 3), stride=(2, 2), padding=(1, 1))\n",
       "    (5): ReLU()\n",
       "    (6): Conv2d(64, 64, kernel_size=(3, 3), stride=(1, 1), padding=(1, 1))\n",
       "    (7): ReLU()\n",
       "    (8): Conv2d(64, 64, kernel_size=(3, 3), stride=(2, 2), padding=(1, 1))\n",
       "    (9): ReLU()\n",
       "    (10): Conv2d(64, 128, kernel_size=(3, 3), stride=(2, 2), padding=(1, 1))\n",
       "    (11): ReLU()\n",
       "    (12): Conv2d(128, 128, kernel_size=(3, 3), stride=(2, 2), padding=(1, 1))\n",
       "    (13): ReLU()\n",
       "  )\n",
       "  (dense): Sequential(\n",
       "    (0): Linear(in_features=8192, out_features=512, bias=True)\n",
       "    (1): ReLU()\n",
       "    (2): Linear(in_features=512, out_features=48, bias=True)\n",
       "  )\n",
       ")"
      ]
     },
     "execution_count": 3,
     "metadata": {},
     "output_type": "execute_result"
    }
   ],
   "source": [
    "signature = torch.randint(0, 2, (1, NUM_BITS), device=device).float()\n",
    "wm_encoder = StegaStampEncoder(\n",
    "    IMAGE_SIZE,\n",
    "    IMAGE_CHANNELS,\n",
    "    NUM_BITS,\n",
    ")\n",
    "wm_encoder_load = torch.load('models/wm_stegastamp_encoder.pth', map_location=device, weights_only=True)\n",
    "if type(wm_encoder_load) is collections.OrderedDict:\n",
    "    wm_encoder.load_state_dict(wm_encoder_load)\n",
    "else:\n",
    "    wm_encoder = wm_encoder_load\n",
    "\n",
    "wm_decoder = StegaStampDecoder(\n",
    "    IMAGE_SIZE,\n",
    "    IMAGE_CHANNELS,\n",
    "    NUM_BITS,\n",
    ")\n",
    "wm_decoder_load = torch.load('models/wm_stegastamp_decoder.pth', map_location=device, weights_only=True)\n",
    "if type(wm_decoder_load) is collections.OrderedDict:\n",
    "    wm_decoder.load_state_dict(wm_decoder_load)\n",
    "else:\n",
    "    wm_encoder = wm_encoder_load\n",
    "\n",
    "wm_encoder.to(device)\n",
    "wm_decoder.to(device)\n"
   ]
  },
  {
   "cell_type": "code",
   "execution_count": 4,
   "id": "8217080e66d4ef4e",
   "metadata": {
    "ExecuteTime": {
     "end_time": "2024-12-05T14:10:50.652622Z",
     "start_time": "2024-12-05T14:10:50.649023Z"
    }
   },
   "outputs": [],
   "source": [
    "class CocoCaptionWMDataset(Dataset):\n",
    "    def __init__(self, signature, coco_dataset, num_images):\n",
    "        super(CocoCaptionWMDataset, self).__init__()\n",
    "        self.coco_dataset = coco_dataset\n",
    "        self.dataset = []\n",
    "        signature_str = \"\".join([str(x) for x in signature.squeeze().int().tolist()])\n",
    "        for i in trange(num_images):\n",
    "            try:\n",
    "                image, caption = self.coco_dataset[i]\n",
    "                image = image.to(device).float()\n",
    "                wm_image = wm_encoder(signature.unsqueeze(0).to(device), image.unsqueeze(0).to(device))\n",
    "                # self.dataset.append((wm_image, signature_str))\n",
    "                # self.dataset.append((image.unsqueeze(0).to(device), caption[0]))\n",
    "                self.dataset.append((wm_image, 0))\n",
    "                self.dataset.append((image.unsqueeze(0).to(device), 1))\n",
    "            except Exception as e:\n",
    "                print(e)\n",
    "\n",
    "    def __len__(self):\n",
    "        return len(self.dataset)\n",
    "\n",
    "    def __getitem__(self, idx):\n",
    "        return self.dataset[idx]"
   ]
  },
  {
   "cell_type": "code",
   "execution_count": 5,
   "id": "a042fe75ed7133ea",
   "metadata": {
    "ExecuteTime": {
     "end_time": "2024-12-05T14:11:17.447265Z",
     "start_time": "2024-12-05T14:10:50.654325Z"
    }
   },
   "outputs": [
    {
     "name": "stderr",
     "output_type": "stream",
     "text": [
      "100%|██████████| 1000/1000 [00:22<00:00, 43.80it/s]\n",
      "100%|██████████| 250/250 [00:06<00:00, 39.81it/s]\n"
     ]
    }
   ],
   "source": [
    "train_dataset = CocoCaptionWMDataset(signature, coco_dataset_train, DATASET_SIZE)\n",
    "val_dataset = CocoCaptionWMDataset(signature, coco_dataset_val, DATASET_SIZE//4)"
   ]
  },
  {
   "cell_type": "code",
   "execution_count": 6,
   "id": "1574f8a22358829b",
   "metadata": {
    "ExecuteTime": {
     "end_time": "2024-12-05T14:11:24.076363Z",
     "start_time": "2024-12-05T14:11:17.450Z"
    }
   },
   "outputs": [],
   "source": [
    "wm_classifier = VisionTransformerClassifier(input_resolution=train_dataset[0][0].shape[2], layers=2, heads=8, output_dim=2).to(device)"
   ]
  },
  {
   "cell_type": "code",
   "execution_count": 7,
   "id": "d746addd",
   "metadata": {},
   "outputs": [],
   "source": [
    "from IPython.display import clear_output\n",
    "def collate_fn(examples):\n",
    "    with torch.no_grad():\n",
    "        images = torch.stack([x[0].squeeze() for x in examples]).squeeze()\n",
    "        labels = torch.tensor([x[1] for x in examples])\n",
    "        return (images, labels)\n",
    "\n",
    "\n",
    "train_loader = DataLoader(train_dataset, batch_size=32, shuffle=True, collate_fn=collate_fn)\n",
    "val_loader = DataLoader(val_dataset, batch_size=32, shuffle=True, collate_fn=collate_fn)"
   ]
  },
  {
   "cell_type": "code",
   "execution_count": 8,
   "id": "dad92d4ae0c64813",
   "metadata": {},
   "outputs": [
    {
     "data": {
      "image/png": "[encoded data removed]",
      "text/plain": [
       "<Figure size 640x480 with 1 Axes>"
      ]
     },
     "metadata": {},
     "output_type": "display_data"
    },
    {
     "name": "stdout",
     "output_type": "stream",
     "text": [
      "Epoch: 10/10\tLoss: 0.1691650952848177\n"
     ]
    }
   ],
   "source": [
    "lr = 1e-4\n",
    "epochs = 10\n",
    "opt = optim.AdamW(wm_classifier.parameters(), lr=lr)\n",
    "criterion = nn.CrossEntropyLoss()\n",
    "losses = []\n",
    "for epoch in range(epochs):\n",
    "    step = 0\n",
    "    epoch_loss = 0\n",
    "    for images, labels in train_loader:\n",
    "        images = images.to(device)\n",
    "        labels = labels.to(device)\n",
    "        opt.zero_grad()\n",
    "        pred_labels = wm_classifier(images)\n",
    "        loss = criterion(pred_labels, labels)\n",
    "        epoch_loss += loss.item()\n",
    "        loss.backward()\n",
    "        opt.step()\n",
    "        step += 1\n",
    "    epoch_loss = epoch_loss / len(train_loader)\n",
    "    losses.append(epoch_loss)\n",
    "    clear_output()\n",
    "    plt.xlabel(\"Epochs\")\n",
    "    plt.ylabel(\"CE Loss\")\n",
    "    plt.plot(losses)\n",
    "    plt.show()\n",
    "    print(f\"Epoch: {epoch+1}/{epochs}\\tLoss: {epoch_loss}\")\n",
    "    "
   ]
  },
  {
   "cell_type": "code",
   "execution_count": 9,
   "id": "844cba26d4621713",
   "metadata": {
    "ExecuteTime": {
     "end_time": "2024-12-05T14:12:08.303737Z",
     "start_time": "2024-12-05T14:12:08.303668Z"
    }
   },
   "outputs": [
    {
     "name": "stdout",
     "output_type": "stream",
     "text": [
      "{'Precision': 0.9104477611937236, 'Recall': 0.9759999999996193, 'F1-score': 0.9420849420846006, 'Accuracy': 0.939999999999648}\n"
     ]
    }
   ],
   "source": [
    "from score import f1\n",
    "fp = 1e-10\n",
    "tp = 1e-10\n",
    "fn = 1e-10\n",
    "tn = 1e-10\n",
    "for images, labels in val_loader:\n",
    "   with torch.no_grad():\n",
    "      images = images.to(device)\n",
    "      labels = labels.to(device)\n",
    "      pred_labels = torch.argmax(wm_classifier(images), dim=-1)\n",
    "      tp += torch.sum((pred_labels == 1) & (pred_labels == labels)).item()\n",
    "      tn += torch.sum((pred_labels == 0) & (pred_labels == labels)).item()\n",
    "      fp += torch.sum((pred_labels == 1) & (pred_labels != labels)).item()\n",
    "      fn += torch.sum((pred_labels == 0) & (pred_labels != labels)).item()\n",
    "\n",
    "print(f1(tp, tn, fp, fn))\n",
    "      "
   ]
  },
  {
   "cell_type": "code",
   "execution_count": null,
   "id": "071368f4",
   "metadata": {},
   "outputs": [],
   "source": []
  },
  {
   "cell_type": "code",
   "execution_count": null,
   "id": "5e5a195f",
   "metadata": {},
   "outputs": [],
   "source": []
  }
 ],
 "metadata": {
  "kernelspec": {
   "display_name": "Python 3",
   "language": "python",
   "name": "python3"
  },
  "language_info": {
   "codemirror_mode": {
    "name": "ipython",
    "version": 3
   },
   "file_extension": ".py",
   "mimetype": "text/x-python",
   "name": "python",
   "nbconvert_exporter": "python",
   "pygments_lexer": "ipython3",
   "version": "3.9.6"
  }
 },
 "nbformat": 4,
 "nbformat_minor": 5
}
